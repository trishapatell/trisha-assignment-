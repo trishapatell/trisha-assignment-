{
 "cells": [
  {
   "attachments": {},
   "cell_type": "markdown",
   "metadata": {},
   "source": [
    "  # Verify Installation\n",
    "\n",
    "  **Due Date:** January 29th, 2024 by 11:59 pm. See ICON assignment page for directions."
   ]
  },
  {
   "cell_type": "markdown",
   "metadata": {},
   "source": [
    "## Loading R packages\n",
    "\n",
    "Packages that will be used for the course have already been installed for you, but they do need to be loaded everytime you log into the IDAS system. This will be done with the `library()` function in R and will always be provided for you in this course. Below is an example of loading the packages used for the course. The packages in the course will always be loaded in the very first code cell of a notebook and **should be \"run\" everytime you log into the IDAS**."
   ]
  },
  {
   "cell_type": "code",
   "execution_count": null,
   "metadata": {
    "vscode": {
     "languageId": "r"
    }
   },
   "outputs": [],
   "source": [
    "library(tidyverse)\n",
    "library(ggformula)\n",
    "library(mosaic)\n",
    "library(remotes)\n",
    "library(broom)\n",
    "library(rpart)\n",
    "library(ISLR)\n",
    "library(rpart.plot)\n",
    "library(rsample)\n",
    "library(titanic)"
   ]
  },
  {
   "cell_type": "markdown",
   "metadata": {},
   "source": [
    "## Testing Installation\n",
    "\n",
    "If you get errors when you run the code above, this means that something went wrong in the installation of the packages and I recommend getting in touch with the instructor. **Note:** *when the packages are loaded, a red background shows up with messages. Although this is red, this is the expected behavior.*\n",
    "\n",
    "Once the packages have been loaded, a figure will be created with R using data that comes with the packages we already loaded. Below is some code to try to run once the R packages above have been successfully loaded."
   ]
  },
  {
   "cell_type": "code",
   "execution_count": null,
   "metadata": {
    "vscode": {
     "languageId": "r"
    }
   },
   "outputs": [],
   "source": [
    "gf_density(~ wage, data = CPS85)"
   ]
  },
  {
   "attachments": {},
   "cell_type": "markdown",
   "metadata": {},
   "source": [
    "\n",
    "  This should create a density plot (more on this type of figure later) that shows the distribution of the wage variable from the CPS85 data. This data comes with the mosaicData package and is data from the 1985 Current Population Survey.\n",
    "\n",
    "  **If the figure does not show up**, please reach out to the instructor to help troubleshoot the issues."
   ]
  },
  {
   "attachments": {},
   "cell_type": "markdown",
   "metadata": {},
   "source": [
    "## Your To Do\n",
    "\n",
    "To get you some early practice after you have confirmed that the packages are loaded for you. This section will mimic what the process for an activity or assignment will look like. \n",
    "\n",
    "For this section, data on the cost of diamonds will be explored. The diamonds data contains the following attributes: \n",
    "\n",
    "+ **price**: price in US dollars\n",
    "+ **carat**: weight of the diamond\n",
    "+ **cut**: quality of the diamond\n",
    "+ **color**: color of the diamond\n",
    "+ **clarity**: how clear the diamond is\n",
    "+ **x**: length of the diamond (in mm)\n",
    "+ **y**: width of the diamond (in mm)\n",
    "+ **z**: depth of the diamond (in mm)\n",
    "+ **depth**: total depth percentage\n",
    "+ **table**: width of the top of diamond relative to the widest point of the diamond\n",
    "\n",
    "\n",
    "## Question 1\n",
    "\n",
    "Using the code below, create a histogram for the price of the diamonds. This will explore the distribution of the diamonds. To complete the code below, put the name of the attribute representing the diamond price (i.e., `price`) in place of the \"$$\" in the code below. Use this figure to answer questions about the distribution on ICON. "
   ]
  },
  {
   "cell_type": "code",
   "execution_count": null,
   "metadata": {
    "vscode": {
     "languageId": "r"
    }
   },
   "outputs": [],
   "source": [
    "gf_histogram(~ $$, data = diamonds)"
   ]
  }
 ],
 "metadata": {
  "file_extension": ".py",
  "kernelspec": {
   "display_name": "R",
   "language": "R",
   "name": "ir"
  },
  "language_info": {
   "codemirror_mode": "r",
   "file_extension": ".r",
   "mimetype": "text/x-r-source",
   "name": "R",
   "pygments_lexer": "r",
   "version": "4.2.0"
  },
  "mimetype": "text/x-python",
  "name": "python",
  "npconvert_exporter": "python",
  "pygments_lexer": "ipython3",
  "version": 3
 },
 "nbformat": 4,
 "nbformat_minor": 2
}
